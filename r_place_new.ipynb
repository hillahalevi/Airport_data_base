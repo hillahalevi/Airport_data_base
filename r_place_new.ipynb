{
  "cells": [
    {
      "cell_type": "markdown",
      "metadata": {
        "id": "view-in-github",
        "colab_type": "text"
      },
      "source": [
        "<a href=\"https://colab.research.google.com/github/hillahalevi/Airport_data_base/blob/master/r_place_new.ipynb\" target=\"_parent\"><img src=\"https://colab.research.google.com/assets/colab-badge.svg\" alt=\"Open In Colab\"/></a>"
      ]
    },
    {
      "cell_type": "code",
      "execution_count": null,
      "metadata": {
        "colab": {
          "base_uri": "https://localhost:8080/"
        },
        "id": "Z9WjuKCwbP80",
        "outputId": "34f46808-00ed-407a-86ee-1fa5dce9c894"
      },
      "outputs": [
        {
          "output_type": "stream",
          "name": "stdout",
          "text": [
            "Looking in indexes: https://pypi.org/simple, https://us-python.pkg.dev/colab-wheels/public/simple/\n",
            "Requirement already satisfied: praw in /usr/local/lib/python3.8/dist-packages (7.6.1)\n",
            "Requirement already satisfied: prawcore<3,>=2.1 in /usr/local/lib/python3.8/dist-packages (from praw) (2.3.0)\n",
            "Requirement already satisfied: websocket-client>=0.54.0 in /usr/local/lib/python3.8/dist-packages (from praw) (1.5.1)\n",
            "Requirement already satisfied: update-checker>=0.18 in /usr/local/lib/python3.8/dist-packages (from praw) (0.18.0)\n",
            "Requirement already satisfied: requests<3.0,>=2.6.0 in /usr/local/lib/python3.8/dist-packages (from prawcore<3,>=2.1->praw) (2.25.1)\n",
            "Requirement already satisfied: certifi>=2017.4.17 in /usr/local/lib/python3.8/dist-packages (from requests<3.0,>=2.6.0->prawcore<3,>=2.1->praw) (2022.12.7)\n",
            "Requirement already satisfied: chardet<5,>=3.0.2 in /usr/local/lib/python3.8/dist-packages (from requests<3.0,>=2.6.0->prawcore<3,>=2.1->praw) (4.0.0)\n",
            "Requirement already satisfied: idna<3,>=2.5 in /usr/local/lib/python3.8/dist-packages (from requests<3.0,>=2.6.0->prawcore<3,>=2.1->praw) (2.10)\n",
            "Requirement already satisfied: urllib3<1.27,>=1.21.1 in /usr/local/lib/python3.8/dist-packages (from requests<3.0,>=2.6.0->prawcore<3,>=2.1->praw) (1.24.3)\n"
          ]
        }
      ],
      "source": [
        "!pip install praw\n",
        "import matplotlib\n",
        "from matplotlib import pyplot as plt\n",
        "from google.colab import drive\n"
      ]
    },
    {
      "cell_type": "code",
      "execution_count": null,
      "metadata": {
        "colab": {
          "base_uri": "https://localhost:8080/"
        },
        "id": "DXLTyTzTtfcY",
        "outputId": "5d0a22c2-0b83-4127-b419-2069aac09305"
      },
      "outputs": [
        {
          "output_type": "stream",
          "name": "stdout",
          "text": [
            "Drive already mounted at /content/drive; to attempt to forcibly remount, call drive.mount(\"/content/drive\", force_remount=True).\n"
          ]
        }
      ],
      "source": [
        "drive.mount('/content/drive')"
      ]
    },
    {
      "cell_type": "code",
      "execution_count": null,
      "metadata": {
        "id": "LEqUiog48jfp"
      },
      "outputs": [],
      "source": [
        "import pandas as pd\n",
        "path = \"/content/drive/MyDrive/research_data/tiles_with_explicit_user_names.csv\"\n",
        "df = pd.read_csv(path)\n",
        "# Dataset is now stored in a Pandas Dataframe"
      ]
    },
    {
      "cell_type": "code",
      "source": [
        "import pandas as pd\n",
        "\n",
        "rplace_path = \"/content/drive/MyDrive/research_data/clean_df_with_engagement_data.csv\"\n",
        "rplace_df = pd.read_csv(rplace_path)\n",
        "rplace_df.head()"
      ],
      "metadata": {
        "colab": {
          "base_uri": "https://localhost:8080/",
          "height": 206
        },
        "id": "1q3kUtp-u1YW",
        "outputId": "51532935-5ce5-45b2-84bc-4628ef633db2"
      },
      "execution_count": null,
      "outputs": [
        {
          "output_type": "execute_result",
          "data": {
            "text/plain": [
              "   Unnamed: 0             ts                          user  x_coordinate  \\\n",
              "0           0  1491167838000  c2Md9m4QckH8M+lhNh9btgoiFDk=           326   \n",
              "1       61865  1491136027000  c2Md9m4QckH8M+lhNh9btgoiFDk=            66   \n",
              "2      131725  1491010730000  c2Md9m4QckH8M+lhNh9btgoiFDk=           631   \n",
              "3      531920  1491097193000  c2Md9m4QckH8M+lhNh9btgoiFDk=           851   \n",
              "4      636420  1491055635000  c2Md9m4QckH8M+lhNh9btgoiFDk=           308   \n",
              "\n",
              "   y_coordinate  color original_username   time_diff  engagement_level  \n",
              "0           258      0         bolush_it   3689000.0          0.170597  \n",
              "1           993      0         bolush_it  34309000.0          0.170597  \n",
              "2           113      0         bolush_it   6423000.0          0.170597  \n",
              "3            30      4         bolush_it    308000.0          0.170597  \n",
              "4           259      5         bolush_it    762000.0          0.170597  "
            ],
            "text/html": [
              "\n",
              "  <div id=\"df-a1131d43-4b75-4bae-ab1d-1e1499489fd4\">\n",
              "    <div class=\"colab-df-container\">\n",
              "      <div>\n",
              "<style scoped>\n",
              "    .dataframe tbody tr th:only-of-type {\n",
              "        vertical-align: middle;\n",
              "    }\n",
              "\n",
              "    .dataframe tbody tr th {\n",
              "        vertical-align: top;\n",
              "    }\n",
              "\n",
              "    .dataframe thead th {\n",
              "        text-align: right;\n",
              "    }\n",
              "</style>\n",
              "<table border=\"1\" class=\"dataframe\">\n",
              "  <thead>\n",
              "    <tr style=\"text-align: right;\">\n",
              "      <th></th>\n",
              "      <th>Unnamed: 0</th>\n",
              "      <th>ts</th>\n",
              "      <th>user</th>\n",
              "      <th>x_coordinate</th>\n",
              "      <th>y_coordinate</th>\n",
              "      <th>color</th>\n",
              "      <th>original_username</th>\n",
              "      <th>time_diff</th>\n",
              "      <th>engagement_level</th>\n",
              "    </tr>\n",
              "  </thead>\n",
              "  <tbody>\n",
              "    <tr>\n",
              "      <th>0</th>\n",
              "      <td>0</td>\n",
              "      <td>1491167838000</td>\n",
              "      <td>c2Md9m4QckH8M+lhNh9btgoiFDk=</td>\n",
              "      <td>326</td>\n",
              "      <td>258</td>\n",
              "      <td>0</td>\n",
              "      <td>bolush_it</td>\n",
              "      <td>3689000.0</td>\n",
              "      <td>0.170597</td>\n",
              "    </tr>\n",
              "    <tr>\n",
              "      <th>1</th>\n",
              "      <td>61865</td>\n",
              "      <td>1491136027000</td>\n",
              "      <td>c2Md9m4QckH8M+lhNh9btgoiFDk=</td>\n",
              "      <td>66</td>\n",
              "      <td>993</td>\n",
              "      <td>0</td>\n",
              "      <td>bolush_it</td>\n",
              "      <td>34309000.0</td>\n",
              "      <td>0.170597</td>\n",
              "    </tr>\n",
              "    <tr>\n",
              "      <th>2</th>\n",
              "      <td>131725</td>\n",
              "      <td>1491010730000</td>\n",
              "      <td>c2Md9m4QckH8M+lhNh9btgoiFDk=</td>\n",
              "      <td>631</td>\n",
              "      <td>113</td>\n",
              "      <td>0</td>\n",
              "      <td>bolush_it</td>\n",
              "      <td>6423000.0</td>\n",
              "      <td>0.170597</td>\n",
              "    </tr>\n",
              "    <tr>\n",
              "      <th>3</th>\n",
              "      <td>531920</td>\n",
              "      <td>1491097193000</td>\n",
              "      <td>c2Md9m4QckH8M+lhNh9btgoiFDk=</td>\n",
              "      <td>851</td>\n",
              "      <td>30</td>\n",
              "      <td>4</td>\n",
              "      <td>bolush_it</td>\n",
              "      <td>308000.0</td>\n",
              "      <td>0.170597</td>\n",
              "    </tr>\n",
              "    <tr>\n",
              "      <th>4</th>\n",
              "      <td>636420</td>\n",
              "      <td>1491055635000</td>\n",
              "      <td>c2Md9m4QckH8M+lhNh9btgoiFDk=</td>\n",
              "      <td>308</td>\n",
              "      <td>259</td>\n",
              "      <td>5</td>\n",
              "      <td>bolush_it</td>\n",
              "      <td>762000.0</td>\n",
              "      <td>0.170597</td>\n",
              "    </tr>\n",
              "  </tbody>\n",
              "</table>\n",
              "</div>\n",
              "      <button class=\"colab-df-convert\" onclick=\"convertToInteractive('df-a1131d43-4b75-4bae-ab1d-1e1499489fd4')\"\n",
              "              title=\"Convert this dataframe to an interactive table.\"\n",
              "              style=\"display:none;\">\n",
              "        \n",
              "  <svg xmlns=\"http://www.w3.org/2000/svg\" height=\"24px\"viewBox=\"0 0 24 24\"\n",
              "       width=\"24px\">\n",
              "    <path d=\"M0 0h24v24H0V0z\" fill=\"none\"/>\n",
              "    <path d=\"M18.56 5.44l.94 2.06.94-2.06 2.06-.94-2.06-.94-.94-2.06-.94 2.06-2.06.94zm-11 1L8.5 8.5l.94-2.06 2.06-.94-2.06-.94L8.5 2.5l-.94 2.06-2.06.94zm10 10l.94 2.06.94-2.06 2.06-.94-2.06-.94-.94-2.06-.94 2.06-2.06.94z\"/><path d=\"M17.41 7.96l-1.37-1.37c-.4-.4-.92-.59-1.43-.59-.52 0-1.04.2-1.43.59L10.3 9.45l-7.72 7.72c-.78.78-.78 2.05 0 2.83L4 21.41c.39.39.9.59 1.41.59.51 0 1.02-.2 1.41-.59l7.78-7.78 2.81-2.81c.8-.78.8-2.07 0-2.86zM5.41 20L4 18.59l7.72-7.72 1.47 1.35L5.41 20z\"/>\n",
              "  </svg>\n",
              "      </button>\n",
              "      \n",
              "  <style>\n",
              "    .colab-df-container {\n",
              "      display:flex;\n",
              "      flex-wrap:wrap;\n",
              "      gap: 12px;\n",
              "    }\n",
              "\n",
              "    .colab-df-convert {\n",
              "      background-color: #E8F0FE;\n",
              "      border: none;\n",
              "      border-radius: 50%;\n",
              "      cursor: pointer;\n",
              "      display: none;\n",
              "      fill: #1967D2;\n",
              "      height: 32px;\n",
              "      padding: 0 0 0 0;\n",
              "      width: 32px;\n",
              "    }\n",
              "\n",
              "    .colab-df-convert:hover {\n",
              "      background-color: #E2EBFA;\n",
              "      box-shadow: 0px 1px 2px rgba(60, 64, 67, 0.3), 0px 1px 3px 1px rgba(60, 64, 67, 0.15);\n",
              "      fill: #174EA6;\n",
              "    }\n",
              "\n",
              "    [theme=dark] .colab-df-convert {\n",
              "      background-color: #3B4455;\n",
              "      fill: #D2E3FC;\n",
              "    }\n",
              "\n",
              "    [theme=dark] .colab-df-convert:hover {\n",
              "      background-color: #434B5C;\n",
              "      box-shadow: 0px 1px 3px 1px rgba(0, 0, 0, 0.15);\n",
              "      filter: drop-shadow(0px 1px 2px rgba(0, 0, 0, 0.3));\n",
              "      fill: #FFFFFF;\n",
              "    }\n",
              "  </style>\n",
              "\n",
              "      <script>\n",
              "        const buttonEl =\n",
              "          document.querySelector('#df-a1131d43-4b75-4bae-ab1d-1e1499489fd4 button.colab-df-convert');\n",
              "        buttonEl.style.display =\n",
              "          google.colab.kernel.accessAllowed ? 'block' : 'none';\n",
              "\n",
              "        async function convertToInteractive(key) {\n",
              "          const element = document.querySelector('#df-a1131d43-4b75-4bae-ab1d-1e1499489fd4');\n",
              "          const dataTable =\n",
              "            await google.colab.kernel.invokeFunction('convertToInteractive',\n",
              "                                                     [key], {});\n",
              "          if (!dataTable) return;\n",
              "\n",
              "          const docLinkHtml = 'Like what you see? Visit the ' +\n",
              "            '<a target=\"_blank\" href=https://colab.research.google.com/notebooks/data_table.ipynb>data table notebook</a>'\n",
              "            + ' to learn more about interactive tables.';\n",
              "          element.innerHTML = '';\n",
              "          dataTable['output_type'] = 'display_data';\n",
              "          await google.colab.output.renderOutput(dataTable, element);\n",
              "          const docLink = document.createElement('div');\n",
              "          docLink.innerHTML = docLinkHtml;\n",
              "          element.appendChild(docLink);\n",
              "        }\n",
              "      </script>\n",
              "    </div>\n",
              "  </div>\n",
              "  "
            ]
          },
          "metadata": {},
          "execution_count": 4
        }
      ]
    },
    {
      "cell_type": "code",
      "source": [
        "r_users_path = \"/content/reddit_user_data.csv\"\n",
        "r_users_df = pd.read_csv(r_users_path)\n",
        "r_users_df.head()"
      ],
      "metadata": {
        "colab": {
          "base_uri": "https://localhost:8080/",
          "height": 206
        },
        "id": "-Ub5FbYXv7dW",
        "outputId": "bc7a173e-ff25-4a69-a483-656d1b139f7e"
      },
      "execution_count": null,
      "outputs": [
        {
          "output_type": "execute_result",
          "data": {
            "text/plain": [
              "      id               name   created_utc  comment_karma  link_karma  \\\n",
              "0  y17oo             -NVLL-  1.463604e+09         8144.0       911.0   \n",
              "1  3kcgj  FrenchGrammarNazi  1.248784e+09         3012.0         1.0   \n",
              "2  5ak1x           pconwell  1.306471e+09        89286.0     16506.0   \n",
              "3  37jrc             loulan  1.217644e+09       659781.0   1542163.0   \n",
              "4  q0fbq             yangok  1.441046e+09         1352.0       155.0   \n",
              "\n",
              "                                          subreddits  num_posts  \n",
              "0  {'pcmasterrace', 'techsupport', 'outwardgame',...     9055.0  \n",
              "1                                              set()     3013.0  \n",
              "2  {'learnmath', 'retirement', 'DataHoarder', 'gr...   105792.0  \n",
              "3  {'listentothis', 'TheNational', 'UkrainianConf...  2201944.0  \n",
              "4                                          {'Shrek'}     1507.0  "
            ],
            "text/html": [
              "\n",
              "  <div id=\"df-0f322c58-7f05-4e30-9146-527b32c6dcd3\">\n",
              "    <div class=\"colab-df-container\">\n",
              "      <div>\n",
              "<style scoped>\n",
              "    .dataframe tbody tr th:only-of-type {\n",
              "        vertical-align: middle;\n",
              "    }\n",
              "\n",
              "    .dataframe tbody tr th {\n",
              "        vertical-align: top;\n",
              "    }\n",
              "\n",
              "    .dataframe thead th {\n",
              "        text-align: right;\n",
              "    }\n",
              "</style>\n",
              "<table border=\"1\" class=\"dataframe\">\n",
              "  <thead>\n",
              "    <tr style=\"text-align: right;\">\n",
              "      <th></th>\n",
              "      <th>id</th>\n",
              "      <th>name</th>\n",
              "      <th>created_utc</th>\n",
              "      <th>comment_karma</th>\n",
              "      <th>link_karma</th>\n",
              "      <th>subreddits</th>\n",
              "      <th>num_posts</th>\n",
              "    </tr>\n",
              "  </thead>\n",
              "  <tbody>\n",
              "    <tr>\n",
              "      <th>0</th>\n",
              "      <td>y17oo</td>\n",
              "      <td>-NVLL-</td>\n",
              "      <td>1.463604e+09</td>\n",
              "      <td>8144.0</td>\n",
              "      <td>911.0</td>\n",
              "      <td>{'pcmasterrace', 'techsupport', 'outwardgame',...</td>\n",
              "      <td>9055.0</td>\n",
              "    </tr>\n",
              "    <tr>\n",
              "      <th>1</th>\n",
              "      <td>3kcgj</td>\n",
              "      <td>FrenchGrammarNazi</td>\n",
              "      <td>1.248784e+09</td>\n",
              "      <td>3012.0</td>\n",
              "      <td>1.0</td>\n",
              "      <td>set()</td>\n",
              "      <td>3013.0</td>\n",
              "    </tr>\n",
              "    <tr>\n",
              "      <th>2</th>\n",
              "      <td>5ak1x</td>\n",
              "      <td>pconwell</td>\n",
              "      <td>1.306471e+09</td>\n",
              "      <td>89286.0</td>\n",
              "      <td>16506.0</td>\n",
              "      <td>{'learnmath', 'retirement', 'DataHoarder', 'gr...</td>\n",
              "      <td>105792.0</td>\n",
              "    </tr>\n",
              "    <tr>\n",
              "      <th>3</th>\n",
              "      <td>37jrc</td>\n",
              "      <td>loulan</td>\n",
              "      <td>1.217644e+09</td>\n",
              "      <td>659781.0</td>\n",
              "      <td>1542163.0</td>\n",
              "      <td>{'listentothis', 'TheNational', 'UkrainianConf...</td>\n",
              "      <td>2201944.0</td>\n",
              "    </tr>\n",
              "    <tr>\n",
              "      <th>4</th>\n",
              "      <td>q0fbq</td>\n",
              "      <td>yangok</td>\n",
              "      <td>1.441046e+09</td>\n",
              "      <td>1352.0</td>\n",
              "      <td>155.0</td>\n",
              "      <td>{'Shrek'}</td>\n",
              "      <td>1507.0</td>\n",
              "    </tr>\n",
              "  </tbody>\n",
              "</table>\n",
              "</div>\n",
              "      <button class=\"colab-df-convert\" onclick=\"convertToInteractive('df-0f322c58-7f05-4e30-9146-527b32c6dcd3')\"\n",
              "              title=\"Convert this dataframe to an interactive table.\"\n",
              "              style=\"display:none;\">\n",
              "        \n",
              "  <svg xmlns=\"http://www.w3.org/2000/svg\" height=\"24px\"viewBox=\"0 0 24 24\"\n",
              "       width=\"24px\">\n",
              "    <path d=\"M0 0h24v24H0V0z\" fill=\"none\"/>\n",
              "    <path d=\"M18.56 5.44l.94 2.06.94-2.06 2.06-.94-2.06-.94-.94-2.06-.94 2.06-2.06.94zm-11 1L8.5 8.5l.94-2.06 2.06-.94-2.06-.94L8.5 2.5l-.94 2.06-2.06.94zm10 10l.94 2.06.94-2.06 2.06-.94-2.06-.94-.94-2.06-.94 2.06-2.06.94z\"/><path d=\"M17.41 7.96l-1.37-1.37c-.4-.4-.92-.59-1.43-.59-.52 0-1.04.2-1.43.59L10.3 9.45l-7.72 7.72c-.78.78-.78 2.05 0 2.83L4 21.41c.39.39.9.59 1.41.59.51 0 1.02-.2 1.41-.59l7.78-7.78 2.81-2.81c.8-.78.8-2.07 0-2.86zM5.41 20L4 18.59l7.72-7.72 1.47 1.35L5.41 20z\"/>\n",
              "  </svg>\n",
              "      </button>\n",
              "      \n",
              "  <style>\n",
              "    .colab-df-container {\n",
              "      display:flex;\n",
              "      flex-wrap:wrap;\n",
              "      gap: 12px;\n",
              "    }\n",
              "\n",
              "    .colab-df-convert {\n",
              "      background-color: #E8F0FE;\n",
              "      border: none;\n",
              "      border-radius: 50%;\n",
              "      cursor: pointer;\n",
              "      display: none;\n",
              "      fill: #1967D2;\n",
              "      height: 32px;\n",
              "      padding: 0 0 0 0;\n",
              "      width: 32px;\n",
              "    }\n",
              "\n",
              "    .colab-df-convert:hover {\n",
              "      background-color: #E2EBFA;\n",
              "      box-shadow: 0px 1px 2px rgba(60, 64, 67, 0.3), 0px 1px 3px 1px rgba(60, 64, 67, 0.15);\n",
              "      fill: #174EA6;\n",
              "    }\n",
              "\n",
              "    [theme=dark] .colab-df-convert {\n",
              "      background-color: #3B4455;\n",
              "      fill: #D2E3FC;\n",
              "    }\n",
              "\n",
              "    [theme=dark] .colab-df-convert:hover {\n",
              "      background-color: #434B5C;\n",
              "      box-shadow: 0px 1px 3px 1px rgba(0, 0, 0, 0.15);\n",
              "      filter: drop-shadow(0px 1px 2px rgba(0, 0, 0, 0.3));\n",
              "      fill: #FFFFFF;\n",
              "    }\n",
              "  </style>\n",
              "\n",
              "      <script>\n",
              "        const buttonEl =\n",
              "          document.querySelector('#df-0f322c58-7f05-4e30-9146-527b32c6dcd3 button.colab-df-convert');\n",
              "        buttonEl.style.display =\n",
              "          google.colab.kernel.accessAllowed ? 'block' : 'none';\n",
              "\n",
              "        async function convertToInteractive(key) {\n",
              "          const element = document.querySelector('#df-0f322c58-7f05-4e30-9146-527b32c6dcd3');\n",
              "          const dataTable =\n",
              "            await google.colab.kernel.invokeFunction('convertToInteractive',\n",
              "                                                     [key], {});\n",
              "          if (!dataTable) return;\n",
              "\n",
              "          const docLinkHtml = 'Like what you see? Visit the ' +\n",
              "            '<a target=\"_blank\" href=https://colab.research.google.com/notebooks/data_table.ipynb>data table notebook</a>'\n",
              "            + ' to learn more about interactive tables.';\n",
              "          element.innerHTML = '';\n",
              "          dataTable['output_type'] = 'display_data';\n",
              "          await google.colab.output.renderOutput(dataTable, element);\n",
              "          const docLink = document.createElement('div');\n",
              "          docLink.innerHTML = docLinkHtml;\n",
              "          element.appendChild(docLink);\n",
              "        }\n",
              "      </script>\n",
              "    </div>\n",
              "  </div>\n",
              "  "
            ]
          },
          "metadata": {},
          "execution_count": 5
        }
      ]
    },
    {
      "cell_type": "code",
      "source": [
        "# assume df1 is the smaller data frame with 1000 rows and df2 is the larger data frame with 50000 rows\n",
        "merged_df = pd.merge(r_users_df, rplace_df, left_on='name', right_on='original_username')"
      ],
      "metadata": {
        "id": "slzhdawBy4p2"
      },
      "execution_count": null,
      "outputs": []
    },
    {
      "cell_type": "code",
      "source": [
        "merged_df.head()"
      ],
      "metadata": {
        "colab": {
          "base_uri": "https://localhost:8080/",
          "height": 461
        },
        "id": "tHXcUQkW2q4H",
        "outputId": "3e008fe1-8626-41c2-d2c2-bdc5dce2c6a8"
      },
      "execution_count": null,
      "outputs": [
        {
          "output_type": "execute_result",
          "data": {
            "text/plain": [
              "      id    name   created_utc  comment_karma  link_karma  \\\n",
              "0  y17oo  -NVLL-  1.463604e+09         8144.0       911.0   \n",
              "1  y17oo  -NVLL-  1.463604e+09         8144.0       911.0   \n",
              "2  y17oo  -NVLL-  1.463604e+09         8144.0       911.0   \n",
              "3  y17oo  -NVLL-  1.463604e+09         8144.0       911.0   \n",
              "4  y17oo  -NVLL-  1.463604e+09         8144.0       911.0   \n",
              "\n",
              "                                          subreddits  num_posts  Unnamed: 0  \\\n",
              "0  {'pcmasterrace', 'techsupport', 'outwardgame',...     9055.0        1996   \n",
              "1  {'pcmasterrace', 'techsupport', 'outwardgame',...     9055.0       15675   \n",
              "2  {'pcmasterrace', 'techsupport', 'outwardgame',...     9055.0       52277   \n",
              "3  {'pcmasterrace', 'techsupport', 'outwardgame',...     9055.0       75288   \n",
              "4  {'pcmasterrace', 'techsupport', 'outwardgame',...     9055.0       80588   \n",
              "\n",
              "              ts                          user  x_coordinate  y_coordinate  \\\n",
              "0  1491152722000  OBGjEkRD09yu5Uw0FgQQnFNjeyY=           611           127   \n",
              "1  1491090340000  OBGjEkRD09yu5Uw0FgQQnFNjeyY=           593           145   \n",
              "2  1491153357000  OBGjEkRD09yu5Uw0FgQQnFNjeyY=           604           117   \n",
              "3  1491150805000  OBGjEkRD09yu5Uw0FgQQnFNjeyY=           583           117   \n",
              "4  1491085348000  OBGjEkRD09yu5Uw0FgQQnFNjeyY=           585           121   \n",
              "\n",
              "   color original_username  time_diff  engagement_level  \n",
              "0      0            -NVLL-        0.0          0.947775  \n",
              "1      0            -NVLL-   666000.0          0.947775  \n",
              "2      0            -NVLL-        0.0          0.947775  \n",
              "3      0            -NVLL-        0.0          0.947775  \n",
              "4      0            -NVLL-   410000.0          0.947775  "
            ],
            "text/html": [
              "\n",
              "  <div id=\"df-9a3e0ca9-9d27-4a53-8666-da9edb968168\">\n",
              "    <div class=\"colab-df-container\">\n",
              "      <div>\n",
              "<style scoped>\n",
              "    .dataframe tbody tr th:only-of-type {\n",
              "        vertical-align: middle;\n",
              "    }\n",
              "\n",
              "    .dataframe tbody tr th {\n",
              "        vertical-align: top;\n",
              "    }\n",
              "\n",
              "    .dataframe thead th {\n",
              "        text-align: right;\n",
              "    }\n",
              "</style>\n",
              "<table border=\"1\" class=\"dataframe\">\n",
              "  <thead>\n",
              "    <tr style=\"text-align: right;\">\n",
              "      <th></th>\n",
              "      <th>id</th>\n",
              "      <th>name</th>\n",
              "      <th>created_utc</th>\n",
              "      <th>comment_karma</th>\n",
              "      <th>link_karma</th>\n",
              "      <th>subreddits</th>\n",
              "      <th>num_posts</th>\n",
              "      <th>Unnamed: 0</th>\n",
              "      <th>ts</th>\n",
              "      <th>user</th>\n",
              "      <th>x_coordinate</th>\n",
              "      <th>y_coordinate</th>\n",
              "      <th>color</th>\n",
              "      <th>original_username</th>\n",
              "      <th>time_diff</th>\n",
              "      <th>engagement_level</th>\n",
              "    </tr>\n",
              "  </thead>\n",
              "  <tbody>\n",
              "    <tr>\n",
              "      <th>0</th>\n",
              "      <td>y17oo</td>\n",
              "      <td>-NVLL-</td>\n",
              "      <td>1.463604e+09</td>\n",
              "      <td>8144.0</td>\n",
              "      <td>911.0</td>\n",
              "      <td>{'pcmasterrace', 'techsupport', 'outwardgame',...</td>\n",
              "      <td>9055.0</td>\n",
              "      <td>1996</td>\n",
              "      <td>1491152722000</td>\n",
              "      <td>OBGjEkRD09yu5Uw0FgQQnFNjeyY=</td>\n",
              "      <td>611</td>\n",
              "      <td>127</td>\n",
              "      <td>0</td>\n",
              "      <td>-NVLL-</td>\n",
              "      <td>0.0</td>\n",
              "      <td>0.947775</td>\n",
              "    </tr>\n",
              "    <tr>\n",
              "      <th>1</th>\n",
              "      <td>y17oo</td>\n",
              "      <td>-NVLL-</td>\n",
              "      <td>1.463604e+09</td>\n",
              "      <td>8144.0</td>\n",
              "      <td>911.0</td>\n",
              "      <td>{'pcmasterrace', 'techsupport', 'outwardgame',...</td>\n",
              "      <td>9055.0</td>\n",
              "      <td>15675</td>\n",
              "      <td>1491090340000</td>\n",
              "      <td>OBGjEkRD09yu5Uw0FgQQnFNjeyY=</td>\n",
              "      <td>593</td>\n",
              "      <td>145</td>\n",
              "      <td>0</td>\n",
              "      <td>-NVLL-</td>\n",
              "      <td>666000.0</td>\n",
              "      <td>0.947775</td>\n",
              "    </tr>\n",
              "    <tr>\n",
              "      <th>2</th>\n",
              "      <td>y17oo</td>\n",
              "      <td>-NVLL-</td>\n",
              "      <td>1.463604e+09</td>\n",
              "      <td>8144.0</td>\n",
              "      <td>911.0</td>\n",
              "      <td>{'pcmasterrace', 'techsupport', 'outwardgame',...</td>\n",
              "      <td>9055.0</td>\n",
              "      <td>52277</td>\n",
              "      <td>1491153357000</td>\n",
              "      <td>OBGjEkRD09yu5Uw0FgQQnFNjeyY=</td>\n",
              "      <td>604</td>\n",
              "      <td>117</td>\n",
              "      <td>0</td>\n",
              "      <td>-NVLL-</td>\n",
              "      <td>0.0</td>\n",
              "      <td>0.947775</td>\n",
              "    </tr>\n",
              "    <tr>\n",
              "      <th>3</th>\n",
              "      <td>y17oo</td>\n",
              "      <td>-NVLL-</td>\n",
              "      <td>1.463604e+09</td>\n",
              "      <td>8144.0</td>\n",
              "      <td>911.0</td>\n",
              "      <td>{'pcmasterrace', 'techsupport', 'outwardgame',...</td>\n",
              "      <td>9055.0</td>\n",
              "      <td>75288</td>\n",
              "      <td>1491150805000</td>\n",
              "      <td>OBGjEkRD09yu5Uw0FgQQnFNjeyY=</td>\n",
              "      <td>583</td>\n",
              "      <td>117</td>\n",
              "      <td>0</td>\n",
              "      <td>-NVLL-</td>\n",
              "      <td>0.0</td>\n",
              "      <td>0.947775</td>\n",
              "    </tr>\n",
              "    <tr>\n",
              "      <th>4</th>\n",
              "      <td>y17oo</td>\n",
              "      <td>-NVLL-</td>\n",
              "      <td>1.463604e+09</td>\n",
              "      <td>8144.0</td>\n",
              "      <td>911.0</td>\n",
              "      <td>{'pcmasterrace', 'techsupport', 'outwardgame',...</td>\n",
              "      <td>9055.0</td>\n",
              "      <td>80588</td>\n",
              "      <td>1491085348000</td>\n",
              "      <td>OBGjEkRD09yu5Uw0FgQQnFNjeyY=</td>\n",
              "      <td>585</td>\n",
              "      <td>121</td>\n",
              "      <td>0</td>\n",
              "      <td>-NVLL-</td>\n",
              "      <td>410000.0</td>\n",
              "      <td>0.947775</td>\n",
              "    </tr>\n",
              "  </tbody>\n",
              "</table>\n",
              "</div>\n",
              "      <button class=\"colab-df-convert\" onclick=\"convertToInteractive('df-9a3e0ca9-9d27-4a53-8666-da9edb968168')\"\n",
              "              title=\"Convert this dataframe to an interactive table.\"\n",
              "              style=\"display:none;\">\n",
              "        \n",
              "  <svg xmlns=\"http://www.w3.org/2000/svg\" height=\"24px\"viewBox=\"0 0 24 24\"\n",
              "       width=\"24px\">\n",
              "    <path d=\"M0 0h24v24H0V0z\" fill=\"none\"/>\n",
              "    <path d=\"M18.56 5.44l.94 2.06.94-2.06 2.06-.94-2.06-.94-.94-2.06-.94 2.06-2.06.94zm-11 1L8.5 8.5l.94-2.06 2.06-.94-2.06-.94L8.5 2.5l-.94 2.06-2.06.94zm10 10l.94 2.06.94-2.06 2.06-.94-2.06-.94-.94-2.06-.94 2.06-2.06.94z\"/><path d=\"M17.41 7.96l-1.37-1.37c-.4-.4-.92-.59-1.43-.59-.52 0-1.04.2-1.43.59L10.3 9.45l-7.72 7.72c-.78.78-.78 2.05 0 2.83L4 21.41c.39.39.9.59 1.41.59.51 0 1.02-.2 1.41-.59l7.78-7.78 2.81-2.81c.8-.78.8-2.07 0-2.86zM5.41 20L4 18.59l7.72-7.72 1.47 1.35L5.41 20z\"/>\n",
              "  </svg>\n",
              "      </button>\n",
              "      \n",
              "  <style>\n",
              "    .colab-df-container {\n",
              "      display:flex;\n",
              "      flex-wrap:wrap;\n",
              "      gap: 12px;\n",
              "    }\n",
              "\n",
              "    .colab-df-convert {\n",
              "      background-color: #E8F0FE;\n",
              "      border: none;\n",
              "      border-radius: 50%;\n",
              "      cursor: pointer;\n",
              "      display: none;\n",
              "      fill: #1967D2;\n",
              "      height: 32px;\n",
              "      padding: 0 0 0 0;\n",
              "      width: 32px;\n",
              "    }\n",
              "\n",
              "    .colab-df-convert:hover {\n",
              "      background-color: #E2EBFA;\n",
              "      box-shadow: 0px 1px 2px rgba(60, 64, 67, 0.3), 0px 1px 3px 1px rgba(60, 64, 67, 0.15);\n",
              "      fill: #174EA6;\n",
              "    }\n",
              "\n",
              "    [theme=dark] .colab-df-convert {\n",
              "      background-color: #3B4455;\n",
              "      fill: #D2E3FC;\n",
              "    }\n",
              "\n",
              "    [theme=dark] .colab-df-convert:hover {\n",
              "      background-color: #434B5C;\n",
              "      box-shadow: 0px 1px 3px 1px rgba(0, 0, 0, 0.15);\n",
              "      filter: drop-shadow(0px 1px 2px rgba(0, 0, 0, 0.3));\n",
              "      fill: #FFFFFF;\n",
              "    }\n",
              "  </style>\n",
              "\n",
              "      <script>\n",
              "        const buttonEl =\n",
              "          document.querySelector('#df-9a3e0ca9-9d27-4a53-8666-da9edb968168 button.colab-df-convert');\n",
              "        buttonEl.style.display =\n",
              "          google.colab.kernel.accessAllowed ? 'block' : 'none';\n",
              "\n",
              "        async function convertToInteractive(key) {\n",
              "          const element = document.querySelector('#df-9a3e0ca9-9d27-4a53-8666-da9edb968168');\n",
              "          const dataTable =\n",
              "            await google.colab.kernel.invokeFunction('convertToInteractive',\n",
              "                                                     [key], {});\n",
              "          if (!dataTable) return;\n",
              "\n",
              "          const docLinkHtml = 'Like what you see? Visit the ' +\n",
              "            '<a target=\"_blank\" href=https://colab.research.google.com/notebooks/data_table.ipynb>data table notebook</a>'\n",
              "            + ' to learn more about interactive tables.';\n",
              "          element.innerHTML = '';\n",
              "          dataTable['output_type'] = 'display_data';\n",
              "          await google.colab.output.renderOutput(dataTable, element);\n",
              "          const docLink = document.createElement('div');\n",
              "          docLink.innerHTML = docLinkHtml;\n",
              "          element.appendChild(docLink);\n",
              "        }\n",
              "      </script>\n",
              "    </div>\n",
              "  </div>\n",
              "  "
            ]
          },
          "metadata": {},
          "execution_count": 12
        }
      ]
    },
    {
      "cell_type": "code",
      "source": [
        "import pandas as pd\n",
        "from sklearn.ensemble import RandomForestRegressor\n",
        "from sklearn.model_selection import train_test_split\n",
        "from sklearn.metrics import mean_squared_error\n",
        "from sklearn.preprocessing import OneHotEncoder\n",
        "import numpy as np\n",
        "# encode the categorical features using one-hot encoding\n",
        "encoder = OneHotEncoder()\n",
        "categorical_columns = [\"subreddits\"]\n",
        "encoded = encoder.fit_transform(merged_df[categorical_columns]).toarray()\n",
        "encoded_columns = encoder.get_feature_names(categorical_columns)\n",
        "encoded_df = pd.DataFrame(encoded, columns=encoded_columns)\n",
        "\n",
        "# combine the encoded features with the original data frame\n",
        "merged_df = pd.concat([merged_df, encoded_df], axis=1)\n",
        "merged_df.drop(columns=categorical_columns, inplace=True)"
      ],
      "metadata": {
        "colab": {
          "base_uri": "https://localhost:8080/"
        },
        "id": "4uTzBZJb6NA4",
        "outputId": "6375da56-f575-4079-93c3-ee733a1a608e"
      },
      "execution_count": null,
      "outputs": [
        {
          "output_type": "stream",
          "name": "stderr",
          "text": [
            "/usr/local/lib/python3.8/dist-packages/sklearn/utils/deprecation.py:87: FutureWarning: Function get_feature_names is deprecated; get_feature_names is deprecated in 1.0 and will be removed in 1.2. Please use get_feature_names_out instead.\n",
            "  warnings.warn(msg, category=FutureWarning)\n"
          ]
        }
      ]
    },
    {
      "cell_type": "code",
      "source": [
        "merged_df.to_csv('merged_df.csv', index=False)\n"
      ],
      "metadata": {
        "id": "RBUIb44p9VIa"
      },
      "execution_count": null,
      "outputs": []
    },
    {
      "cell_type": "code",
      "source": [
        "import pandas as pd\n",
        "from sklearn.ensemble import RandomForestRegressor\n",
        "from sklearn.model_selection import train_test_split\n",
        "from sklearn.metrics import mean_squared_error\n",
        "import matplotlib.pyplot as plt\n",
        "\n",
        "merged_df = pd.read_csv(\"merged_df.csv\")\n",
        "# split the data into training and testing sets\n",
        "X_train, X_test, y_train, y_test = train_test_split(merged_df.drop(columns=[\"engagement_level\"]), merged_df[\"engagement_level\"], test_size=0.2, random_state=42)\n",
        "\n",
        "# train a random forest regressor on the training set\n",
        "model = RandomForestRegressor(n_estimators=100, random_state=42)\n",
        "model.fit(X_train, y_train)\n",
        "\n",
        "# evaluate the model on the testing set\n",
        "y_pred = model.predict(X_test)\n",
        "mse = mean_squared_error(y_test, y_pred)\n",
        "print(\"Mean squared error:\", mse)\n",
        "\n",
        "# plot the feature importances\n",
        "feature_importances = pd.Series(model.feature_importances_, index=X_train.columns)\n",
        "feature_importances.sort_values(ascending=False, inplace=True)\n",
        "plt.figure(figsize=(10, 6))\n",
        "feature_importances.plot(kind=\"bar\")\n",
        "plt.title(\"Feature importances\")\n",
        "plt.xlabel(\"Features\")\n",
        "plt.ylabel(\"Importance\")\n",
        "plt.show()\n"
      ],
      "metadata": {
        "id": "SxpXYchj5EIi"
      },
      "execution_count": null,
      "outputs": []
    },
    {
      "cell_type": "code",
      "source": [
        "import pandas as pd\n",
        "from sklearn.tree import DecisionTreeClassifier\n",
        "from sklearn.model_selection import train_test_split\n",
        "from sklearn.metrics import accuracy_score\n",
        "import matplotlib.pyplot as plt\n",
        "\n",
        "# Load the data into a pandas DataFrame\n",
        "#merged_df = pd.read_csv(\"engagement_data.csv\")\n",
        "\n",
        "# Define the independent variables (features)\n",
        "X = merged_df.drop(\"engagement_level\", axis=1)\n",
        "\n",
        "# Define the dependent variable (target)\n",
        "y = merged_df[\"engagement_level\"]\n",
        "\n",
        "# Split the data into training and test sets\n",
        "X_train, X_test, y_train, y_test = train_test_split(X, y, test_size=0.2, random_state=0)\n",
        "\n",
        "# Train a decision tree classifier on the training data\n",
        "clf = DecisionTreeClassifier()\n",
        "clf.fit(X_train, y_train)\n",
        "\n",
        "# Make predictions on the test data\n",
        "y_pred = clf.predict(X_test)\n",
        "\n",
        "# Evaluate the model's accuracy\n",
        "accuracy = accuracy_score(y_test, y_pred)\n",
        "print(\"Accuracy:\", accuracy)\n",
        "\n",
        "# Get the feature importances\n",
        "importances = clf.feature_importances_\n",
        "\n",
        "\n",
        "# Create a bar plot of the feature importances\n",
        "plt.bar(X.columns, importances)\n",
        "plt.xlabel(\"Feature\")\n",
        "plt.ylabel(\"Importance\")\n",
        "plt.show()"
      ],
      "metadata": {
        "colab": {
          "base_uri": "https://localhost:8080/",
          "height": 381
        },
        "id": "Y8RvhwrNx0Mv",
        "outputId": "b328126e-abdc-414d-84b8-f3b28019dd00"
      },
      "execution_count": null,
      "outputs": [
        {
          "output_type": "error",
          "ename": "ValueError",
          "evalue": "ignored",
          "traceback": [
            "\u001b[0;31m---------------------------------------------------------------------------\u001b[0m",
            "\u001b[0;31mValueError\u001b[0m                                Traceback (most recent call last)",
            "\u001b[0;32m<ipython-input-13-4dd2fdf871b4>\u001b[0m in \u001b[0;36m<module>\u001b[0;34m\u001b[0m\n\u001b[1;32m     19\u001b[0m \u001b[0;31m# Train a decision tree classifier on the training data\u001b[0m\u001b[0;34m\u001b[0m\u001b[0;34m\u001b[0m\u001b[0;34m\u001b[0m\u001b[0m\n\u001b[1;32m     20\u001b[0m \u001b[0mclf\u001b[0m \u001b[0;34m=\u001b[0m \u001b[0mDecisionTreeClassifier\u001b[0m\u001b[0;34m(\u001b[0m\u001b[0;34m)\u001b[0m\u001b[0;34m\u001b[0m\u001b[0;34m\u001b[0m\u001b[0m\n\u001b[0;32m---> 21\u001b[0;31m \u001b[0mclf\u001b[0m\u001b[0;34m.\u001b[0m\u001b[0mfit\u001b[0m\u001b[0;34m(\u001b[0m\u001b[0mX_train\u001b[0m\u001b[0;34m,\u001b[0m \u001b[0my_train\u001b[0m\u001b[0;34m)\u001b[0m\u001b[0;34m\u001b[0m\u001b[0;34m\u001b[0m\u001b[0m\n\u001b[0m\u001b[1;32m     22\u001b[0m \u001b[0;34m\u001b[0m\u001b[0m\n\u001b[1;32m     23\u001b[0m \u001b[0;31m# Make predictions on the test data\u001b[0m\u001b[0;34m\u001b[0m\u001b[0;34m\u001b[0m\u001b[0;34m\u001b[0m\u001b[0m\n",
            "\u001b[0;32m/usr/local/lib/python3.8/dist-packages/sklearn/tree/_classes.py\u001b[0m in \u001b[0;36mfit\u001b[0;34m(self, X, y, sample_weight, check_input, X_idx_sorted)\u001b[0m\n\u001b[1;32m    935\u001b[0m         \"\"\"\n\u001b[1;32m    936\u001b[0m \u001b[0;34m\u001b[0m\u001b[0m\n\u001b[0;32m--> 937\u001b[0;31m         super().fit(\n\u001b[0m\u001b[1;32m    938\u001b[0m             \u001b[0mX\u001b[0m\u001b[0;34m,\u001b[0m\u001b[0;34m\u001b[0m\u001b[0;34m\u001b[0m\u001b[0m\n\u001b[1;32m    939\u001b[0m             \u001b[0my\u001b[0m\u001b[0;34m,\u001b[0m\u001b[0;34m\u001b[0m\u001b[0;34m\u001b[0m\u001b[0m\n",
            "\u001b[0;32m/usr/local/lib/python3.8/dist-packages/sklearn/tree/_classes.py\u001b[0m in \u001b[0;36mfit\u001b[0;34m(self, X, y, sample_weight, check_input, X_idx_sorted)\u001b[0m\n\u001b[1;32m    163\u001b[0m             \u001b[0mcheck_X_params\u001b[0m \u001b[0;34m=\u001b[0m \u001b[0mdict\u001b[0m\u001b[0;34m(\u001b[0m\u001b[0mdtype\u001b[0m\u001b[0;34m=\u001b[0m\u001b[0mDTYPE\u001b[0m\u001b[0;34m,\u001b[0m \u001b[0maccept_sparse\u001b[0m\u001b[0;34m=\u001b[0m\u001b[0;34m\"csc\"\u001b[0m\u001b[0;34m)\u001b[0m\u001b[0;34m\u001b[0m\u001b[0;34m\u001b[0m\u001b[0m\n\u001b[1;32m    164\u001b[0m             \u001b[0mcheck_y_params\u001b[0m \u001b[0;34m=\u001b[0m \u001b[0mdict\u001b[0m\u001b[0;34m(\u001b[0m\u001b[0mensure_2d\u001b[0m\u001b[0;34m=\u001b[0m\u001b[0;32mFalse\u001b[0m\u001b[0;34m,\u001b[0m \u001b[0mdtype\u001b[0m\u001b[0;34m=\u001b[0m\u001b[0;32mNone\u001b[0m\u001b[0;34m)\u001b[0m\u001b[0;34m\u001b[0m\u001b[0;34m\u001b[0m\u001b[0m\n\u001b[0;32m--> 165\u001b[0;31m             X, y = self._validate_data(\n\u001b[0m\u001b[1;32m    166\u001b[0m                 \u001b[0mX\u001b[0m\u001b[0;34m,\u001b[0m \u001b[0my\u001b[0m\u001b[0;34m,\u001b[0m \u001b[0mvalidate_separately\u001b[0m\u001b[0;34m=\u001b[0m\u001b[0;34m(\u001b[0m\u001b[0mcheck_X_params\u001b[0m\u001b[0;34m,\u001b[0m \u001b[0mcheck_y_params\u001b[0m\u001b[0;34m)\u001b[0m\u001b[0;34m\u001b[0m\u001b[0;34m\u001b[0m\u001b[0m\n\u001b[1;32m    167\u001b[0m             )\n",
            "\u001b[0;32m/usr/local/lib/python3.8/dist-packages/sklearn/base.py\u001b[0m in \u001b[0;36m_validate_data\u001b[0;34m(self, X, y, reset, validate_separately, **check_params)\u001b[0m\n\u001b[1;32m    576\u001b[0m                 \u001b[0;31m# :(\u001b[0m\u001b[0;34m\u001b[0m\u001b[0;34m\u001b[0m\u001b[0;34m\u001b[0m\u001b[0m\n\u001b[1;32m    577\u001b[0m                 \u001b[0mcheck_X_params\u001b[0m\u001b[0;34m,\u001b[0m \u001b[0mcheck_y_params\u001b[0m \u001b[0;34m=\u001b[0m \u001b[0mvalidate_separately\u001b[0m\u001b[0;34m\u001b[0m\u001b[0;34m\u001b[0m\u001b[0m\n\u001b[0;32m--> 578\u001b[0;31m                 \u001b[0mX\u001b[0m \u001b[0;34m=\u001b[0m \u001b[0mcheck_array\u001b[0m\u001b[0;34m(\u001b[0m\u001b[0mX\u001b[0m\u001b[0;34m,\u001b[0m \u001b[0;34m**\u001b[0m\u001b[0mcheck_X_params\u001b[0m\u001b[0;34m)\u001b[0m\u001b[0;34m\u001b[0m\u001b[0;34m\u001b[0m\u001b[0m\n\u001b[0m\u001b[1;32m    579\u001b[0m                 \u001b[0my\u001b[0m \u001b[0;34m=\u001b[0m \u001b[0mcheck_array\u001b[0m\u001b[0;34m(\u001b[0m\u001b[0my\u001b[0m\u001b[0;34m,\u001b[0m \u001b[0;34m**\u001b[0m\u001b[0mcheck_y_params\u001b[0m\u001b[0;34m)\u001b[0m\u001b[0;34m\u001b[0m\u001b[0;34m\u001b[0m\u001b[0m\n\u001b[1;32m    580\u001b[0m             \u001b[0;32melse\u001b[0m\u001b[0;34m:\u001b[0m\u001b[0;34m\u001b[0m\u001b[0;34m\u001b[0m\u001b[0m\n",
            "\u001b[0;32m/usr/local/lib/python3.8/dist-packages/sklearn/utils/validation.py\u001b[0m in \u001b[0;36mcheck_array\u001b[0;34m(array, accept_sparse, accept_large_sparse, dtype, order, copy, force_all_finite, ensure_2d, allow_nd, ensure_min_samples, ensure_min_features, estimator)\u001b[0m\n\u001b[1;32m    744\u001b[0m                     \u001b[0marray\u001b[0m \u001b[0;34m=\u001b[0m \u001b[0marray\u001b[0m\u001b[0;34m.\u001b[0m\u001b[0mastype\u001b[0m\u001b[0;34m(\u001b[0m\u001b[0mdtype\u001b[0m\u001b[0;34m,\u001b[0m \u001b[0mcasting\u001b[0m\u001b[0;34m=\u001b[0m\u001b[0;34m\"unsafe\"\u001b[0m\u001b[0;34m,\u001b[0m \u001b[0mcopy\u001b[0m\u001b[0;34m=\u001b[0m\u001b[0;32mFalse\u001b[0m\u001b[0;34m)\u001b[0m\u001b[0;34m\u001b[0m\u001b[0;34m\u001b[0m\u001b[0m\n\u001b[1;32m    745\u001b[0m                 \u001b[0;32melse\u001b[0m\u001b[0;34m:\u001b[0m\u001b[0;34m\u001b[0m\u001b[0;34m\u001b[0m\u001b[0m\n\u001b[0;32m--> 746\u001b[0;31m                     \u001b[0marray\u001b[0m \u001b[0;34m=\u001b[0m \u001b[0mnp\u001b[0m\u001b[0;34m.\u001b[0m\u001b[0masarray\u001b[0m\u001b[0;34m(\u001b[0m\u001b[0marray\u001b[0m\u001b[0;34m,\u001b[0m \u001b[0morder\u001b[0m\u001b[0;34m=\u001b[0m\u001b[0morder\u001b[0m\u001b[0;34m,\u001b[0m \u001b[0mdtype\u001b[0m\u001b[0;34m=\u001b[0m\u001b[0mdtype\u001b[0m\u001b[0;34m)\u001b[0m\u001b[0;34m\u001b[0m\u001b[0;34m\u001b[0m\u001b[0m\n\u001b[0m\u001b[1;32m    747\u001b[0m             \u001b[0;32mexcept\u001b[0m \u001b[0mComplexWarning\u001b[0m \u001b[0;32mas\u001b[0m \u001b[0mcomplex_warning\u001b[0m\u001b[0;34m:\u001b[0m\u001b[0;34m\u001b[0m\u001b[0;34m\u001b[0m\u001b[0m\n\u001b[1;32m    748\u001b[0m                 raise ValueError(\n",
            "\u001b[0;32m/usr/local/lib/python3.8/dist-packages/pandas/core/generic.py\u001b[0m in \u001b[0;36m__array__\u001b[0;34m(self, dtype)\u001b[0m\n\u001b[1;32m   1991\u001b[0m \u001b[0;34m\u001b[0m\u001b[0m\n\u001b[1;32m   1992\u001b[0m     \u001b[0;32mdef\u001b[0m \u001b[0m__array__\u001b[0m\u001b[0;34m(\u001b[0m\u001b[0mself\u001b[0m\u001b[0;34m,\u001b[0m \u001b[0mdtype\u001b[0m\u001b[0;34m:\u001b[0m \u001b[0mNpDtype\u001b[0m \u001b[0;34m|\u001b[0m \u001b[0;32mNone\u001b[0m \u001b[0;34m=\u001b[0m \u001b[0;32mNone\u001b[0m\u001b[0;34m)\u001b[0m \u001b[0;34m->\u001b[0m \u001b[0mnp\u001b[0m\u001b[0;34m.\u001b[0m\u001b[0mndarray\u001b[0m\u001b[0;34m:\u001b[0m\u001b[0;34m\u001b[0m\u001b[0;34m\u001b[0m\u001b[0m\n\u001b[0;32m-> 1993\u001b[0;31m         \u001b[0;32mreturn\u001b[0m \u001b[0mnp\u001b[0m\u001b[0;34m.\u001b[0m\u001b[0masarray\u001b[0m\u001b[0;34m(\u001b[0m\u001b[0mself\u001b[0m\u001b[0;34m.\u001b[0m\u001b[0m_values\u001b[0m\u001b[0;34m,\u001b[0m \u001b[0mdtype\u001b[0m\u001b[0;34m=\u001b[0m\u001b[0mdtype\u001b[0m\u001b[0;34m)\u001b[0m\u001b[0;34m\u001b[0m\u001b[0;34m\u001b[0m\u001b[0m\n\u001b[0m\u001b[1;32m   1994\u001b[0m \u001b[0;34m\u001b[0m\u001b[0m\n\u001b[1;32m   1995\u001b[0m     def __array_wrap__(\n",
            "\u001b[0;31mValueError\u001b[0m: could not convert string to float: 'cm56e'"
          ]
        }
      ]
    },
    {
      "cell_type": "code",
      "source": [
        "# group the data frame by the original_username column\n",
        "grouped = df.groupby('original_username')"
      ],
      "metadata": {
        "id": "Z1WnOWnktvsa"
      },
      "execution_count": null,
      "outputs": []
    },
    {
      "cell_type": "code",
      "source": [
        "# plot the distribution of x_coordinate values\n",
        "plt.hist(df['x_coordinate'], bins=10, alpha=0.5)\n",
        "plt.xlabel('x_coordinate')\n",
        "plt.ylabel('Frequency')\n",
        "plt.title('Distribution of x_coordinate Values')\n",
        "plt.show()\n",
        "\n",
        "# plot the distribution of y_coordinate values\n",
        "plt.hist(df['y_coordinate'], bins=10, alpha=0.5)\n",
        "plt.xlabel('y_coordinate')\n",
        "plt.ylabel('Frequency')\n",
        "plt.title('Distribution of y_coordinate Values')\n",
        "plt.show()\n"
      ],
      "metadata": {
        "colab": {
          "base_uri": "https://localhost:8080/",
          "height": 575
        },
        "id": "DqVSLPiWwEIq",
        "outputId": "52d9bf1f-49c9-48a3-92e6-15df7bf50b44"
      },
      "execution_count": null,
      "outputs": [
        {
          "output_type": "display_data",
          "data": {
            "text/plain": [
              "<Figure size 432x288 with 1 Axes>"
            ],
            "image/png": "[encoded data removed]"
          },
          "metadata": {
            "needs_background": "light"
          }
        },
        {
          "output_type": "display_data",
          "data": {
            "text/plain": [
              "<Figure size 432x288 with 1 Axes>"
            ],
            "image/png": "[encoded data removed]"
          },
          "metadata": {
            "needs_background": "light"
          }
        }
      ]
    },
    {
      "cell_type": "code",
      "source": [
        "# plot the users' activity - to big need to sample \n",
        "plt.scatter(df['x_coordinate'], df['y_coordinate'])\n",
        "plt.xlabel('x_coordinate')\n",
        "plt.ylabel('y_coordinate')\n",
        "plt.title('Users Activity')\n",
        "plt.show()"
      ],
      "metadata": {
        "id": "IIsLY8lOwMw8",
        "colab": {
          "base_uri": "https://localhost:8080/",
          "height": 296
        },
        "outputId": "ba6a1a3e-2dcc-4fcc-c399-1d6f02efc2b0"
      },
      "execution_count": null,
      "outputs": [
        {
          "output_type": "display_data",
          "data": {
            "text/plain": [
              "<Figure size 432x288 with 1 Axes>"
            ],
            "image/png": "[encoded data removed]"
          },
          "metadata": {
            "needs_background": "light"
          }
        }
      ]
    },
    {
      "cell_type": "code",
      "source": [
        "import pandas as pd\n",
        "\n",
        "def preprocess_data(df):\n",
        "    # convert the ts column to a datetime format\n",
        "    df['ts'] = pd.to_datetime(df['ts'], unit='ms')\n",
        "    return df\n",
        "\n",
        "def find_most_active_time_period(group):\n",
        "    # calculate the number of entries for each hour\n",
        "    hour_counts = group['ts'].dt.hour.value_counts()\n",
        "    # return the hour with the most entries\n",
        "    return hour_counts.index[0]"
      ],
      "metadata": {
        "id": "SjAF-Pf4w4zJ"
      },
      "execution_count": null,
      "outputs": []
    },
    {
      "cell_type": "code",
      "source": [
        "def analyze_data(df):\n",
        "    # calculate the most active time period for each user\n",
        "    most_active_period = grouped.apply(find_most_active_time_period).reset_index(name='most_active_hour')\n",
        "    most_active_period.to_csv('most_active_period.csv', index=False)\n",
        "    \n",
        "    # calculate the average x and y coordinates for each user\n",
        "    avg_coordinates = grouped[['x_coordinate', 'y_coordinate']].mean().reset_index()\n",
        "    avg_coordinates.to_csv('avg_coordinates.csv', index=False)\n",
        "    \n",
        "    # calculate the most frequent color for each user\n",
        "    most_frequent_color = grouped['color'].agg(lambda x: x.value_counts().index[0]).reset_index(name='most_frequent_color')\n",
        "    most_frequent_color.to_csv('most_frequent_color.csv', index=False)\n",
        "    \n",
        "    # count the number of rows for each original_username\n",
        "    row_counts = df['original_username'].value_counts().reset_index(name='row_count')\n",
        "    row_counts.to_csv('row_counts.csv', index=False)\n",
        "\n",
        "\n",
        "# preprocess the data\n",
        "df = preprocess_data(df)\n",
        "\n",
        "# perform the analysis\n",
        "analyze_data(df)\n"
      ],
      "metadata": {
        "id": "Bpugff4yXqMI"
      },
      "execution_count": null,
      "outputs": []
    },
    {
      "cell_type": "markdown",
      "source": [
        "Sampling version :"
      ],
      "metadata": {
        "id": "wyobwBxOyQxW"
      }
    },
    {
      "cell_type": "code",
      "source": [
        "import pandas as pd\n",
        "import random\n",
        "\n",
        "def preprocess_data(df):\n",
        "    # convert the ts column to a datetime format\n",
        "    df['ts'] = pd.to_datetime(df['ts'], unit='ms')\n",
        "    return df\n",
        "\n",
        "def find_most_active_time_period(group):\n",
        "    # calculate the number of entries for each hour\n",
        "    hour_counts = group['ts'].dt.hour.value_counts()\n",
        "    # return the hour with the most entries\n",
        "    return hour_counts.index[0]\n",
        "\n",
        "def analyze_data(df):\n",
        "    grouped = df.groupby('original_username')\n",
        "\n",
        "    # sample the data to reduce the noise\n",
        "    sample = grouped.apply(lambda x: x.sample(frac=0.1, random_state=42))\n",
        "    \n",
        "    # calculate the most active time period for each user\n",
        "    most_active_period = sample.groupby('original_username').apply(find_most_active_time_period).reset_index(name='most_active_hour')\n",
        "    most_active_period.to_csv('s_most_active_period.csv', index=False)\n",
        "    \n",
        "    # calculate the average x and y coordinates for each user\n",
        "    avg_coordinates = sample[['x_coordinate', 'y_coordinate']].mean().reset_index()\n",
        "    avg_coordinates.to_csv('s_avg_coordinates.csv', index=False)\n",
        "    \n",
        "    # calculate the most frequent color for each user\n",
        "    most_frequent_color = sample['color'].agg(lambda x: x.value_counts().index[0]).reset_index(name='most_frequent_color')\n",
        "    most_frequent_color.to_csv('s_most_frequent_color.csv', index=False)\n",
        "    \n",
        "    # count the number of rows for each original_username\n",
        "    row_counts = sample['original_username'].value_counts().reset_index(name='row_count')\n",
        "    row_counts.to_csv('s_row_counts.csv', index=False)\n",
        "\n",
        "\n",
        "\n",
        "# preprocess the data\n",
        "df = preprocess_data(df)\n",
        "\n",
        "# perform the analysis\n",
        "analyze_data(df)\n"
      ],
      "metadata": {
        "id": "aLOuXbTHyKNt"
      },
      "execution_count": null,
      "outputs": []
    },
    {
      "cell_type": "markdown",
      "source": [
        "Identify key users :"
      ],
      "metadata": {
        "id": "qj_PK_j1y4dB"
      }
    },
    {
      "cell_type": "code",
      "source": [
        "import pandas as pd\n",
        "import matplotlib.pyplot as plt\n",
        "import seaborn as sns\n",
        "import numpy as np\n",
        "\n",
        "\n",
        "\n",
        "# Convert the timestamp column to a datetime object\n",
        "df['ts'] = pd.to_datetime(df['ts'], unit='ms')\n",
        "\n",
        "# Plot the distribution of contributions over time\n",
        "grouped = df.groupby(['original_username'])['ts'].count().reset_index(name='counts')\n",
        "grouped = grouped.sort_values('counts', ascending=False).head(10)\n",
        "grouped_df = df[df['original_username'].isin(grouped['original_username'])]\n",
        "g = sns.lineplot(x='ts', y='original_username', data=grouped_df, estimator=None, color='gray', linewidth=0.5)\n",
        "g.set_xticks(np.arange(grouped_df['ts'].min(), grouped_df['ts'].max(), np.timedelta64(24,'h')))\n",
        "plt.xticks(rotation=45)\n",
        "plt.title('Distribution of Contributions Over Time')\n",
        "plt.xlabel('Timestamp')\n",
        "plt.ylabel('Username')\n",
        "plt.tight_layout()\n",
        "plt.savefig('contributions_over_time.png')\n",
        "\n",
        "# Map the contributions\n",
        "colors = sns.color_palette('husl', n_colors=grouped_df['original_username'].nunique())\n",
        "color_dict = dict(zip(grouped_df['original_username'].unique(), colors))\n",
        "grouped_df['color'] = grouped_df['original_username'].map(color_dict)\n",
        "plt.figure(figsize=(20,10))\n",
        "plt.scatter(grouped_df['x_coordinate'], grouped_df['y_coordinate'], c=grouped_df['color'], alpha=0.5, linewidth=0)\n",
        "plt.title('Map of Contributions')\n",
        "plt.xlabel('X Coordinate')\n",
        "plt.ylabel('Y Coordinate')\n",
        "plt.tight_layout()\n",
        "plt.savefig('map_of_contributions.png')\n",
        "\n",
        "# Study the impact of user behavior\n",
        "grouped_df['hour_of_day'] = grouped_df['ts'].dt.hour\n",
        "g = sns.countplot(x='hour_of_day', hue='original_username', data=grouped_df)\n",
        "plt.title('Impact of User Behavior')\n",
        "plt.xlabel('Hour of Day')\n",
        "plt.ylabel('Count')\n",
        "plt.tight_layout()\n",
        "plt.savefig('impact_of_user_behavior.png')\n"
      ],
      "metadata": {
        "id": "46e50Q_iyo2S"
      },
      "execution_count": null,
      "outputs": []
    },
    {
      "cell_type": "markdown",
      "source": [
        "Key users with sampling - needs fix:"
      ],
      "metadata": {
        "id": "QyrGmc1ozILH"
      }
    },
    {
      "cell_type": "code",
      "execution_count": null,
      "metadata": {
        "id": "fEL9jFchDoV4"
      },
      "outputs": [],
      "source": [
        "df = df[df.original_username!= '###']"
      ]
    },
    {
      "cell_type": "code",
      "source": [
        "import pandas as pd\n",
        "import numpy as np\n",
        "import matplotlib.pyplot as plt\n",
        "from sklearn.decomposition import PCA\n",
        "from sklearn.manifold import TSNE\n",
        "\n",
        "\n",
        "# Convert the \"ts\" column to a datetime format\n",
        "df[\"ts\"] = pd.to_datetime(df[\"ts\"], unit='ms')\n",
        "\n",
        "# Group the data by original_username\n",
        "grouped_df = df.groupby(\"original_username\")\n",
        "\n",
        "# Count the number of rows for each original_username\n",
        "counts = grouped_df.size().reset_index(name=\"counts\")\n",
        "\n",
        "# Sort the counts in descending order\n",
        "counts = counts.sort_values(\"counts\", ascending=False)\n",
        "\n",
        "# Plot the histogram of counts\n",
        "plt.hist(counts[\"counts\"], bins=50)\n",
        "plt.xlabel(\"Counts\")\n",
        "plt.ylabel(\"Frequency\")\n",
        "plt.title(\"Histogram of counts by original_username\")\n",
        "plt.show()\n",
        "\n",
        "# Get the top 10 original_usernames\n",
        "top_10 = counts[\"original_username\"][:10]\n",
        "\n",
        "# Filter the data to only include the top 10 original_usernames\n",
        "filtered_df = df[df[\"original_username\"].isin(top_10)]\n",
        "\n",
        "# Apply PCA to reduce the dimensions of the data\n",
        "pca = PCA(n_components=2)\n",
        "pca_result = pca.fit_transform(filtered_df[[\"x_coordinate\", \"y_coordinate\"]])\n",
        "\n",
        "# Plot the results of PCA\n",
        "plt.scatter(pca_result[:, 0], pca_result[:, 1], c=filtered_df[\"color\"], alpha=0.5)\n",
        "plt.xlabel(\"PC1\")\n",
        "plt.ylabel(\"PC2\")\n",
        "plt.title(\"PCA results for top 10 original_usernames\")\n",
        "plt.show()\n",
        "\n",
        "# Apply t-SNE to further reduce the dimensions of the data\n",
        "tsne = TSNE(n_components=2, verbose=1, perplexity=40, n_iter=300)\n",
        "tsne_result = tsne.fit_transform(pca_result)\n",
        "\n",
        "# Plot the results of t-SNE\n",
        "plt.scatter(tsne_result[:, 0], tsne_result[:, 1], c=filtered_df[\"color\"], alpha=0.5)\n",
        "plt.xlabel(\"t-SNE 1\")\n",
        "plt.ylabel(\"t-SNE 2\")\n",
        "plt.title(\"t-SNE results for top 10 original_usernames\")\n",
        "plt.show()\n"
      ],
      "metadata": {
        "id": "ABklp6uzrMOI"
      },
      "execution_count": null,
      "outputs": []
    },
    {
      "cell_type": "code",
      "execution_count": null,
      "metadata": {
        "id": "Je5q3ppCDf6B"
      },
      "outputs": [],
      "source": [
        "df['pixel'] = list(zip(df.x_coordinate, df.y_coordinate))\n"
      ]
    },
    {
      "cell_type": "code",
      "source": [
        "# group the data frame by the original_username column\n",
        "grouped = df.groupby('original_username')\n",
        "\n",
        "# count the number of rows for each group\n",
        "result = grouped.size().reset_index(name='counts')\n",
        "\n",
        "# sort the result by the counts column in descending order\n",
        "result = result.sort_values(by='counts', ascending=False)\n",
        "\n",
        "# get a list of original_username sorted by the number of rows they had\n",
        "usernames = list(result['original_username'])\n",
        "\n",
        "# print the result\n",
        "print(usernames)"
      ],
      "metadata": {
        "id": "G5yxBRjB0jr9"
      },
      "execution_count": null,
      "outputs": []
    },
    {
      "cell_type": "code",
      "execution_count": null,
      "metadata": {
        "id": "IutHDBmZYj1l"
      },
      "outputs": [],
      "source": [
        "# group the data frame by the original_username column\n",
        "grouped = df.groupby('original_username')\n",
        "\n",
        "# count the number of rows for each group\n",
        "result = grouped.size().reset_index(name='counts')\n",
        "\n",
        "# sort the result by the counts column in descending order\n",
        "result = result.sort_values(by='counts', ascending=False)\n",
        "\n",
        "# get a list of original_username sorted by the number of rows they had\n",
        "usernames = list(result['original_username'])\n"
      ]
    },
    {
      "cell_type": "code",
      "source": [
        "import praw\n",
        "import pandas as pd\n",
        "\n",
        "def fetch_user_data(reddit, user_ids):\n",
        "    user_data = []\n",
        "    for user_id in user_ids:\n",
        "        try:\n",
        "            user = reddit.redditor(user_id)\n",
        "            data = {\n",
        "                'id': user.id,\n",
        "                'name': user.name,\n",
        "                'created_utc': user.created_utc,\n",
        "                'comment_karma': user.comment_karma,\n",
        "                'link_karma': user.link_karma,\n",
        "                'subreddits': set(submission.subreddit.display_name for submission in user.submissions.new(limit=None)),\n",
        "                'num_posts': user.link_karma + user.comment_karma\n",
        "            }\n",
        "            user_data.append(data)\n",
        "        except Exception as e:\n",
        "            print(f\"Error fetching user data for {user_id}: {e}\")\n",
        "    return user_data\n",
        "\n"
      ],
      "metadata": {
        "id": "bF_KTR6nHkTx"
      },
      "execution_count": null,
      "outputs": []
    },
    {
      "cell_type": "code",
      "source": [
        "def main():\n",
        "  reddit = praw.Reddit(client_id='FnSwswueosOi_g',\n",
        "                         client_secret='kcUc1ZMxUDLHgO4gzdFCdca79xk',\n",
        "                         password='gefenp4',\n",
        "                         user_agent='Avrahami_crawling_data',\n",
        "                         username='avrahami_isr')\n",
        "  user_ids = usernames[:5] # List of Reddit user IDs\n",
        "  user_data = fetch_user_data(reddit, user_ids)\n",
        "  df = pd.DataFrame(user_data)\n",
        "  df.to_csv('reddit_user_data.csv', index=False)\n",
        "\n",
        "if __name__ == '__main__':\n",
        "    main()"
      ],
      "metadata": {
        "id": "rU5lhwixHqG-"
      },
      "execution_count": null,
      "outputs": []
    },
    {
      "cell_type": "code",
      "source": [
        "len(usernames)"
      ],
      "metadata": {
        "colab": {
          "base_uri": "https://localhost:8080/"
        },
        "id": "bRWPJqYRLI6y",
        "outputId": "2f6b7939-76c4-4add-9adf-b5189e8b9dfe"
      },
      "execution_count": null,
      "outputs": [
        {
          "output_type": "execute_result",
          "data": {
            "text/plain": [
              "837642"
            ]
          },
          "metadata": {},
          "execution_count": 17
        }
      ]
    },
    {
      "cell_type": "code",
      "execution_count": null,
      "metadata": {
        "id": "pu2cjQadzt_4"
      },
      "outputs": [],
      "source": [
        "import praw\n",
        "import pandas as pd\n",
        "\n",
        "# # Replace <client_id> and <client_secret> with your own credentials\n",
        "# reddit = praw.Reddit(client_id='<client_id>', client_secret='<client_secret>',\n",
        "#                      user_agent='<client_id>:<client_secret> (by /u/<reddit_username>)',\n",
        "#                      access_token='<access_token>')\n",
        "\n",
        "reddit = praw.Reddit(client_id='FnSwswueosOi_g',\n",
        "                         client_secret='kcUc1ZMxUDLHgO4gzdFCdca79xk',\n",
        "                         password='gefenp4',\n",
        "                         user_agent='Avrahami_crawling_data',\n",
        "                         username='avrahami_isr')"
      ]
    },
    {
      "cell_type": "code",
      "execution_count": null,
      "metadata": {
        "id": "PZ2T3I0W1fjY"
      },
      "outputs": [],
      "source": [
        "num_posts = user.link_karma + user.comment_karma\n",
        "likes = user.link_karma\n",
        "comments = user.comment_karma\n",
        "#my_subs = [subreddit.display_name for subreddit in user.subreddit(limit=None)]\n",
        "vars(user.subreddit)\n",
        "#vars(user)"
      ]
    },
    {
      "cell_type": "markdown",
      "metadata": {
        "id": "jMOgUWC9pf6b"
      },
      "source": [
        "general engagment_data calc based on multiple features"
      ]
    },
    {
      "cell_type": "code",
      "execution_count": null,
      "metadata": {
        "id": "isB1KZfKnRmi"
      },
      "outputs": [],
      "source": [
        "import pandas as pd\n",
        "\n",
        "# Load the data into a pandas DataFrame\n",
        "df = pd.read_csv(\"r_place_data.csv\")\n",
        "\n",
        "# Create a new column for engagement level\n",
        "df[\"engagement_level\"] = df[\"squares_claimed\"] + df[\"frequency_of_claims\"] + df[\"time_spent\"] + df[\"interactions_with_other_users\"]\n",
        "\n",
        "# Normalize the engagement level values\n",
        "df[\"engagement_level\"] = (df[\"engagement_level\"] - df[\"engagement_level\"].min()) / (df[\"engagement_level\"].max() - df[\"engagement_level\"].min())\n",
        "\n",
        "# Save the updated data to a new CSV file\n",
        "df.to_csv(\"engagement_data.csv\", index=False)"
      ]
    },
    {
      "cell_type": "markdown",
      "metadata": {
        "id": "3Hpj3uoVpt_Y"
      },
      "source": [
        " engagment_data calc based on Time spent on the experiment:\n",
        "\n",
        "---\n",
        "\n"
      ]
    },
    {
      "cell_type": "code",
      "execution_count": null,
      "metadata": {
        "id": "73WsYvZRpqcC"
      },
      "outputs": [],
      "source": [
        "import pandas as pd\n",
        "\n",
        "# Load the data into a pandas DataFrame\n",
        "df = pd.read_csv(\"r_place_data.csv\")\n",
        "\n",
        "# Calculate the total time spent on the experiment for each user\n",
        "df[\"engagement_level\"] = df[\"time_spent\"]\n",
        "\n",
        "# Normalize the engagement level values\n",
        "df[\"engagement_level\"] = (df[\"engagement_level\"] - df[\"engagement_level\"].min()) / (df[\"engagement_level\"].max() - df[\"engagement_level\"].min())\n",
        "\n",
        "# Save the updated data to a new CSV file\n",
        "df.to_csv(\"engagement_data.csv\", index=False)"
      ]
    },
    {
      "cell_type": "markdown",
      "metadata": {
        "id": "Htj8QO8Sp881"
      },
      "source": [
        " engagment_data calc based on Number of squares claimed:\n",
        "\n",
        "```\n",
        "# This is formatted as code\n",
        "```\n",
        "\n",
        "\n"
      ]
    },
    {
      "cell_type": "code",
      "execution_count": null,
      "metadata": {
        "id": "x8QPhglAp5ii"
      },
      "outputs": [],
      "source": [
        "import pandas as pd\n",
        "\n",
        "# Load the data into a pandas DataFrame\n",
        "df = pd.read_csv(\"r_place_data.csv\")\n",
        "\n",
        "# Calculate the total number of squares claimed for each user\n",
        "df[\"engagement_level\"] = df[\"squares_claimed\"]\n",
        "\n",
        "# Normalize the engagement level values\n",
        "df[\"engagement_level\"] = (df[\"engagement_level\"] - df[\"engagement_level\"].min()) / (df[\"engagement_level\"].max() - df[\"engagement_level\"].min())\n",
        "\n",
        "# Save the updated data to a new CSV file\n",
        "df.to_csv(\"engagement_data.csv\", index=False)"
      ]
    },
    {
      "cell_type": "markdown",
      "metadata": {
        "id": "bgbz75B_qJSh"
      },
      "source": [
        " engagment_data calc based on Interactions with other users:\n",
        "\n",
        "---\n",
        "\n",
        "\n"
      ]
    },
    {
      "cell_type": "code",
      "execution_count": null,
      "metadata": {
        "id": "1bZlWeUNqDii"
      },
      "outputs": [],
      "source": [
        "import pandas as pd\n",
        "\n",
        "# Load the data into a pandas DataFrame\n",
        "df = pd.read_csv(\"r_place_data.csv\")\n",
        "\n",
        "# Calculate the total number of interactions with other users for each user\n",
        "df[\"engagement_level\"] = df[\"interactions_with_other_users\"]\n",
        "\n",
        "# Normalize the engagement level values\n",
        "df[\"engagement_level\"] = (df[\"engagement_level\"] - df[\"engagement_level\"].min()) / (df[\"engagement_level\"].max() - df[\"engagement_level\"].min())\n",
        "\n",
        "# Save the updated data to a new CSV file\n",
        "df.to_csv(\"engagement_data.csv\", index=False)"
      ]
    },
    {
      "cell_type": "markdown",
      "metadata": {
        "id": "ekh4WGMnqR_U"
      },
      "source": [
        " engagment_data calc based on Frequency of claiming squares:\n"
      ]
    },
    {
      "cell_type": "code",
      "execution_count": null,
      "metadata": {
        "id": "9H7Qw_XuqPD9"
      },
      "outputs": [],
      "source": [
        "import pandas as pd\n",
        "\n",
        "# Load the data into a pandas DataFrame\n",
        "df = pd.read_csv(\"r_place_data.csv\")\n",
        "\n",
        "# Calculate the average time between each square claim for each user\n",
        "df[\"engagement_level\"] = df[\"frequency_of_claims\"]\n",
        "\n",
        "# Normalize the engagement level values\n",
        "df[\"engagement_level\"] = (df[\"engagement_level\"] - df[\"engagement_level\"].min()) / (df[\"engagement_level\"].max() - df[\"engagement_level\"].min())\n",
        "\n",
        "# Save the updated data to a new CSV file\n",
        "df.to_csv(\"engagement_data.csv\", index=False)"
      ]
    },
    {
      "cell_type": "markdown",
      "metadata": {
        "id": "SJBmOXLRqhni"
      },
      "source": [
        "calculates engagement level as the ratio of pixels placed to time spent"
      ]
    },
    {
      "cell_type": "code",
      "execution_count": null,
      "metadata": {
        "id": "hIsWvmRIqZJM"
      },
      "outputs": [],
      "source": [
        "import pandas as pd\n",
        "\n",
        "# Load the data into a pandas DataFrame\n",
        "df = pd.read_csv(\"r_place_data.csv\")\n",
        "\n",
        "# Calculate the number of pixels a user placed\n",
        "df['pixels_placed'] = df.groupby('user_id')['timestamp'].count()\n",
        "\n",
        "# Calculate the total time a user spent on the platform\n",
        "df['time_spent'] = df.groupby('user_id')['timestamp'].max() - df.groupby('user_id')['timestamp'].min()\n",
        "\n",
        "# Calculate the engagement level as the ratio of pixels placed to time spent\n",
        "df['engagement_level'] = df['pixels_placed'] / df['time_spent']\n",
        "\n",
        "# View the resulting engagement levels for each user\n",
        "print(df.groupby('user_id')['engagement_level'].mean())"
      ]
    },
    {
      "cell_type": "code",
      "execution_count": null,
      "metadata": {
        "id": "jIHlxS85qlUj"
      },
      "outputs": [],
      "source": [
        "# to add community activity"
      ]
    },
    {
      "cell_type": "markdown",
      "metadata": {
        "id": "TB3lnbhzmwfB"
      },
      "source": [
        "building a predictive model for user engagement level in Python using a decision tree algorithm from the scikit-learn library :\n"
      ]
    },
    {
      "cell_type": "code",
      "execution_count": null,
      "metadata": {
        "id": "EZfeECdhmki9"
      },
      "outputs": [],
      "source": [
        "import pandas as pd\n",
        "from sklearn.tree import DecisionTreeClassifier\n",
        "from sklearn.model_selection import train_test_split\n",
        "from sklearn.metrics import accuracy_score\n",
        "import matplotlib.pyplot as plt\n",
        "\n",
        "# Load the data into a pandas DataFrame\n",
        "df = pd.read_csv(\"engagement_data.csv\")\n",
        "\n",
        "# Define the independent variables (features)\n",
        "X = df.drop(\"engagement_level\", axis=1)\n",
        "\n",
        "# Define the dependent variable (target)\n",
        "y = df[\"engagement_level\"]\n",
        "\n",
        "# Split the data into training and test sets\n",
        "X_train, X_test, y_train, y_test = train_test_split(X, y, test_size=0.2, random_state=0)\n",
        "\n",
        "# Train a decision tree classifier on the training data\n",
        "clf = DecisionTreeClassifier()\n",
        "clf.fit(X_train, y_train)\n",
        "\n",
        "# Make predictions on the test data\n",
        "y_pred = clf.predict(X_test)\n",
        "\n",
        "# Evaluate the model's accuracy\n",
        "accuracy = accuracy_score(y_test, y_pred)\n",
        "print(\"Accuracy:\", accuracy)\n",
        "\n",
        "# Get the feature importances\n",
        "importances = clf.feature_importances_\n",
        "\n",
        "# Create a bar plot of the feature importances\n",
        "plt.bar(X.columns, importances)\n",
        "plt.xlabel(\"Feature\")\n",
        "plt.ylabel(\"Importance\")\n",
        "plt.show()"
      ]
    }
  ],
  "metadata": {
    "colab": {
      "provenance": [],
      "include_colab_link": true
    },
    "kernelspec": {
      "display_name": "Python 3",
      "name": "python3"
    },
    "language_info": {
      "name": "python"
    }
  },
  "nbformat": 4,
  "nbformat_minor": 0
}